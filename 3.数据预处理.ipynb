{
 "cells": [
  {
   "cell_type": "markdown",
   "id": "e2f0e53d",
   "metadata": {},
   "source": [
    "# 2.2数据预处理-pandas"
   ]
  },
  {
   "cell_type": "markdown",
   "id": "767508ec",
   "metadata": {},
   "source": [
    "创建数据集：存储在.csv文件中"
   ]
  },
  {
   "cell_type": "code",
   "execution_count": 4,
   "id": "a6988a87",
   "metadata": {},
   "outputs": [],
   "source": [
    "import os\n",
    "os.makedirs(os.path.join('.', 'data'), exist_ok=True)\n",
    "data_file = os.path.join('.', 'data', 'house_tiny.csv')\n",
    "with open(data_file, 'w') as f:\n",
    "    f.write('NumRooms,Alley,Price\\n') # 列名\n",
    "    f.write('NA,Pave,127500\\n') # 每行表示一个数据样本\n",
    "    f.write('2,NA,106000\\n')\n",
    "    f.write('4,NA,178100\\n')\n",
    "    f.write('NA,NA,140000\\n')"
   ]
  },
  {
   "cell_type": "markdown",
   "id": "dbfd307c",
   "metadata": {},
   "source": [
    "读取数据集：通过pandas包的read_csv函数"
   ]
  },
  {
   "cell_type": "code",
   "execution_count": 14,
   "id": "697ac5b0",
   "metadata": {},
   "outputs": [
    {
     "name": "stdout",
     "output_type": "stream",
     "text": [
      "   NumRooms Alley   Price\n",
      "0       NaN  Pave  127500\n",
      "1       2.0   NaN  106000\n",
      "2       4.0   NaN  178100\n",
      "3       NaN   NaN  140000\n"
     ]
    }
   ],
   "source": [
    "import pandas as pd\n",
    "import numpy as np\n",
    "data=pandas.read_csv('./data/house_tiny.csv')\n",
    "print(data)"
   ]
  },
  {
   "cell_type": "markdown",
   "id": "f7c84513",
   "metadata": {},
   "source": [
    "拆分：通过位置索引iloc，可以将data分为inputs和outputs两个数据集"
   ]
  },
  {
   "cell_type": "code",
   "execution_count": 6,
   "id": "a41155ee",
   "metadata": {},
   "outputs": [
    {
     "name": "stdout",
     "output_type": "stream",
     "text": [
      "   NumRooms Alley\n",
      "0       3.0  Pave\n",
      "1       2.0   NaN\n",
      "2       4.0   NaN\n",
      "3       3.0   NaN\n"
     ]
    }
   ],
   "source": [
    "inputs,outputs=data.iloc[:,0:2],data.iloc[:,2]\n",
    "inputs=inputs.fillna(inputs.mean())\n",
    "print(inputs)"
   ]
  },
  {
   "cell_type": "markdown",
   "id": "ba9e50f9",
   "metadata": {},
   "source": [
    "用pandas处理缺失的数据时，我们可根据情况选择用插值法和删除法。"
   ]
  },
  {
   "cell_type": "markdown",
   "id": "f7ac4d65",
   "metadata": {},
   "source": [
    "pd.get_dummies(inputs, dummy_na=True) 是 pandas 库中的一个函数调用，用于执行 独热编码（One-Hot Encoding），并对缺失值（NaN）进行特殊处理\n",
    "当设置 dummy_na=True 时，会额外生成一列来表示缺失值的存在"
   ]
  },
  {
   "cell_type": "code",
   "execution_count": 16,
   "id": "6c1d9baa",
   "metadata": {},
   "outputs": [
    {
     "name": "stdout",
     "output_type": "stream",
     "text": [
      "   Color_Blue  Color_Green  Color_Red\n",
      "0           0            0          1\n",
      "1           0            1          0\n",
      "2           0            0          0\n",
      "3           1            0          0\n"
     ]
    }
   ],
   "source": [
    "df = pd.DataFrame({\"Color\": [\"Red\", \"Green\", np.nan, \"Blue\"]})\n",
    "print(pd.get_dummies(df, dummy_na=False))"
   ]
  },
  {
   "cell_type": "code",
   "execution_count": 19,
   "id": "28f3075e",
   "metadata": {},
   "outputs": [
    {
     "name": "stdout",
     "output_type": "stream",
     "text": [
      "   NumRooms  Alley_Pave  Alley_nan\n",
      "0       3.0           1          0\n",
      "1       2.0           0          1\n",
      "2       4.0           0          1\n",
      "3       3.0           0          1\n"
     ]
    }
   ],
   "source": [
    "inputs = pd.get_dummies(inputs, dummy_na=True)\n",
    "print(inputs)"
   ]
  },
  {
   "cell_type": "markdown",
   "id": "7d0cff80",
   "metadata": {},
   "source": [
    "转换为张量格式"
   ]
  },
  {
   "cell_type": "code",
   "execution_count": 25,
   "id": "61432839",
   "metadata": {},
   "outputs": [
    {
     "name": "stdout",
     "output_type": "stream",
     "text": [
      "tensor([[3., 1., 0.],\n",
      "        [2., 0., 1.],\n",
      "        [4., 0., 1.],\n",
      "        [3., 0., 1.]], dtype=torch.float64)\n",
      "tensor([127500., 106000., 178100., 140000.], dtype=torch.float64)\n"
     ]
    }
   ],
   "source": [
    "import torch\n",
    "X=torch.tensor(inputs.to_numpy(), dtype=torch.float64)\n",
    "print(X)\n",
    "Y=torch.tensor(outputs.to_numpy(), dtype=torch.float64)\n",
    "print(Y)"
   ]
  }
 ],
 "metadata": {
  "kernelspec": {
   "display_name": "d2l",
   "language": "python",
   "name": "python3"
  },
  "language_info": {
   "codemirror_mode": {
    "name": "ipython",
    "version": 3
   },
   "file_extension": ".py",
   "mimetype": "text/x-python",
   "name": "python",
   "nbconvert_exporter": "python",
   "pygments_lexer": "ipython3",
   "version": "3.9.23"
  }
 },
 "nbformat": 4,
 "nbformat_minor": 5
}
