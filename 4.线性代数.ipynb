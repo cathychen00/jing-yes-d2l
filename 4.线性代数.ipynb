{
 "cells": [
  {
   "cell_type": "markdown",
   "id": "bd9f8cbb",
   "metadata": {},
   "source": [
    "# 2.3 线性代数"
   ]
  },
  {
   "cell_type": "markdown",
   "id": "9f267c4c",
   "metadata": {},
   "source": [
    "## 标量\n",
    "仅包含一个数值被称为标量(scalar)。 \n",
    "标量由只有一个元素的张量表示。\n"
   ]
  },
  {
   "cell_type": "code",
   "execution_count": 1,
   "id": "d57006a8",
   "metadata": {},
   "outputs": [],
   "source": [
    "import torch"
   ]
  },
  {
   "cell_type": "markdown",
   "id": "fdf8da13",
   "metadata": {},
   "source": [
    "实例化两个标量，并执行一些熟悉的算数运算。"
   ]
  },
  {
   "cell_type": "code",
   "execution_count": 2,
   "id": "e872c498",
   "metadata": {},
   "outputs": [
    {
     "name": "stdout",
     "output_type": "stream",
     "text": [
      "tensor(5.)\n",
      "tensor(1.)\n",
      "tensor(6.)\n",
      "tensor(1.5000)\n",
      "tensor(9.)\n"
     ]
    }
   ],
   "source": [
    "x=torch.tensor(3.0)\n",
    "y=torch.tensor(2.0)\n",
    "print(x+y)\n",
    "print(x-y)\n",
    "print(x*y)\n",
    "print(x/y)\n",
    "print(x**y)"
   ]
  }
 ],
 "metadata": {
  "kernelspec": {
   "display_name": "d2l",
   "language": "python",
   "name": "python3"
  },
  "language_info": {
   "codemirror_mode": {
    "name": "ipython",
    "version": 3
   },
   "file_extension": ".py",
   "mimetype": "text/x-python",
   "name": "python",
   "nbconvert_exporter": "python",
   "pygments_lexer": "ipython3",
   "version": "3.9.23"
  }
 },
 "nbformat": 4,
 "nbformat_minor": 5
}
