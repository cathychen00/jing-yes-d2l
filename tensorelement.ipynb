{
 "cells": [
  {
   "cell_type": "markdown",
   "metadata": {},
   "source": [
    "# 2.Tensor元素计算"
   ]
  },
  {
   "cell_type": "code",
   "execution_count": 2,
   "metadata": {},
   "outputs": [],
   "source": [
    "import torch"
   ]
  },
  {
   "cell_type": "markdown",
   "metadata": {},
   "source": [
    "### 按元素运算：\n",
    "将标准的标量运算符（加减乘除等）应用到数组的每个元素。"
   ]
  },
  {
   "cell_type": "code",
   "execution_count": null,
   "metadata": {},
   "outputs": [
    {
     "name": "stdout",
     "output_type": "stream",
     "text": [
      "tensor([3, 4, 5, 6])\n",
      "tensor([-1,  0,  1,  2])\n",
      "tensor([2, 4, 6, 8])\n",
      "tensor([0.5000, 1.0000, 1.5000, 2.0000])\n",
      "tensor([ 1,  4,  9, 16])\n"
     ]
    }
   ],
   "source": [
    "x=torch.tensor([1,2,3,4])\n",
    "y=torch.tensor([2,2,2,2])\n",
    "# 加法\n",
    "print(x+y)\n",
    "# 减法\n",
    "print(x-y)\n",
    "# 乘法\n",
    "print(x*y)\n",
    "# 除法\n",
    "print(x/y)\n",
    "# 幂运算\n",
    "print(x**y)"
   ]
  },
  {
   "cell_type": "markdown",
   "metadata": {},
   "source": [
    "### 张量拼接 cat"
   ]
  },
  {
   "cell_type": "code",
   "execution_count": 14,
   "metadata": {},
   "outputs": [
    {
     "name": "stdout",
     "output_type": "stream",
     "text": [
      "tensor([[ 0.0000,  1.0000,  2.0000,  3.0000],\n",
      "        [ 4.0000,  5.0000,  6.0000,  7.0000],\n",
      "        [ 8.0000,  9.0000, 10.0000, 11.0000],\n",
      "        [ 1.0000,  2.0000,  3.0000,  4.0000],\n",
      "        [ 4.0000,  3.0000,  2.0000,  1.0000],\n",
      "        [ 1.0000,  0.2000,  0.0000,  4.0000]])\n",
      "tensor([[ 0.0000,  1.0000,  2.0000,  3.0000,  1.0000,  2.0000,  3.0000,  4.0000],\n",
      "        [ 4.0000,  5.0000,  6.0000,  7.0000,  4.0000,  3.0000,  2.0000,  1.0000],\n",
      "        [ 8.0000,  9.0000, 10.0000, 11.0000,  1.0000,  0.2000,  0.0000,  4.0000]])\n"
     ]
    }
   ],
   "source": [
    "X=torch.arange(12).reshape(3,4)\n",
    "Y=torch.Tensor([[1,2,3,4],[4,3,2,1],[1.0,0.2,0,4.0]])\n",
    "#轴0长度为6，也就是拼接位6行4列\n",
    "print(torch.cat((X,Y),dim=0))\n",
    "#轴1长度为8，也就是拼接为3行8列\n",
    "print(torch.cat((X,Y),dim=1))"
   ]
  },
  {
   "cell_type": "markdown",
   "metadata": {},
   "source": [
    "### X==Y\n",
    "对于每个位置，如果两个张量在这个位置对应的元素相等，则返回True"
   ]
  },
  {
   "cell_type": "code",
   "execution_count": 15,
   "metadata": {},
   "outputs": [
    {
     "name": "stdout",
     "output_type": "stream",
     "text": [
      "tensor([[False, False, False, False],\n",
      "        [ True, False, False, False],\n",
      "        [False, False, False, False]])\n"
     ]
    }
   ],
   "source": [
    "print(X==Y)"
   ]
  },
  {
   "cell_type": "markdown",
   "metadata": {},
   "source": [
    "### sum\n",
    "将张量中所有元素求和"
   ]
  },
  {
   "cell_type": "code",
   "execution_count": 17,
   "metadata": {},
   "outputs": [
    {
     "name": "stdout",
     "output_type": "stream",
     "text": [
      "tensor(66)\n"
     ]
    }
   ],
   "source": [
    "print(X.sum())"
   ]
  }
 ],
 "metadata": {
  "kernelspec": {
   "display_name": "d2l",
   "language": "python",
   "name": "python3"
  },
  "language_info": {
   "codemirror_mode": {
    "name": "ipython",
    "version": 3
   },
   "file_extension": ".py",
   "mimetype": "text/x-python",
   "name": "python",
   "nbconvert_exporter": "python",
   "pygments_lexer": "ipython3",
   "version": "3.9.23"
  }
 },
 "nbformat": 4,
 "nbformat_minor": 2
}
