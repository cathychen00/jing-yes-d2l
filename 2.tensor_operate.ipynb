{
 "cells": [
  {
   "cell_type": "markdown",
   "metadata": {},
   "source": [
    "# 2.1 Tensor元素计算"
   ]
  },
  {
   "cell_type": "code",
   "execution_count": 10,
   "metadata": {},
   "outputs": [],
   "source": [
    "import torch"
   ]
  },
  {
   "cell_type": "markdown",
   "metadata": {},
   "source": [
    "### 按元素运算：\n",
    "将标准的标量运算符（加减乘除等）应用到数组的每个元素。"
   ]
  },
  {
   "cell_type": "code",
   "execution_count": 2,
   "metadata": {},
   "outputs": [
    {
     "name": "stdout",
     "output_type": "stream",
     "text": [
      "tensor([3, 4, 5, 6])\n",
      "tensor([-1,  0,  1,  2])\n",
      "tensor([2, 4, 6, 8])\n",
      "tensor([0.5000, 1.0000, 1.5000, 2.0000])\n",
      "tensor([ 1,  4,  9, 16])\n"
     ]
    }
   ],
   "source": [
    "x=torch.tensor([1,2,3,4])\n",
    "y=torch.tensor([2,2,2,2])\n",
    "# 加法\n",
    "print(x+y)\n",
    "# 减法\n",
    "print(x-y)\n",
    "# 乘法\n",
    "print(x*y)\n",
    "# 除法\n",
    "print(x/y)\n",
    "# 幂运算\n",
    "print(x**y)"
   ]
  },
  {
   "cell_type": "markdown",
   "metadata": {},
   "source": [
    "### 张量拼接 cat"
   ]
  },
  {
   "cell_type": "code",
   "execution_count": 3,
   "metadata": {},
   "outputs": [
    {
     "name": "stdout",
     "output_type": "stream",
     "text": [
      "tensor([[ 0.0000,  1.0000,  2.0000,  3.0000],\n",
      "        [ 4.0000,  5.0000,  6.0000,  7.0000],\n",
      "        [ 8.0000,  9.0000, 10.0000, 11.0000],\n",
      "        [ 1.0000,  2.0000,  3.0000,  4.0000],\n",
      "        [ 4.0000,  3.0000,  2.0000,  1.0000],\n",
      "        [ 1.0000,  0.2000,  0.0000,  4.0000]])\n",
      "tensor([[ 0.0000,  1.0000,  2.0000,  3.0000,  1.0000,  2.0000,  3.0000,  4.0000],\n",
      "        [ 4.0000,  5.0000,  6.0000,  7.0000,  4.0000,  3.0000,  2.0000,  1.0000],\n",
      "        [ 8.0000,  9.0000, 10.0000, 11.0000,  1.0000,  0.2000,  0.0000,  4.0000]])\n"
     ]
    }
   ],
   "source": [
    "X=torch.arange(12).reshape(3,4)\n",
    "Y=torch.Tensor([[1,2,3,4],[4,3,2,1],[1.0,0.2,0,4.0]])\n",
    "#轴0长度为6，也就是拼接位6行4列\n",
    "print(torch.cat((X,Y),dim=0))\n",
    "#轴1长度为8，也就是拼接为3行8列\n",
    "print(torch.cat((X,Y),dim=1))"
   ]
  },
  {
   "cell_type": "markdown",
   "metadata": {},
   "source": [
    "### X==Y\n",
    "对于每个位置，如果两个张量在这个位置对应的元素相等，则返回True"
   ]
  },
  {
   "cell_type": "code",
   "execution_count": 4,
   "metadata": {},
   "outputs": [
    {
     "name": "stdout",
     "output_type": "stream",
     "text": [
      "tensor([[False, False, False, False],\n",
      "        [ True, False, False, False],\n",
      "        [False, False, False, False]])\n"
     ]
    }
   ],
   "source": [
    "print(X==Y)"
   ]
  },
  {
   "cell_type": "markdown",
   "metadata": {},
   "source": [
    "### sum\n",
    "将张量中所有元素求和"
   ]
  },
  {
   "cell_type": "code",
   "execution_count": 5,
   "metadata": {},
   "outputs": [
    {
     "name": "stdout",
     "output_type": "stream",
     "text": [
      "tensor(66)\n"
     ]
    }
   ],
   "source": [
    "print(X.sum())"
   ]
  },
  {
   "cell_type": "markdown",
   "metadata": {},
   "source": [
    "## 广播（broadcasting mechanism）\n",
    "在某些情况下，即使两个矩阵形状不同，也可以通过调用广播机制按照元素进行相加操作。"
   ]
  },
  {
   "cell_type": "code",
   "execution_count": 6,
   "metadata": {},
   "outputs": [
    {
     "name": "stdout",
     "output_type": "stream",
     "text": [
      "tensor([[0],\n",
      "        [1],\n",
      "        [2]])\n",
      "tensor([[0, 1]])\n",
      "tensor([[0, 1],\n",
      "        [1, 2],\n",
      "        [2, 3]])\n"
     ]
    }
   ],
   "source": [
    "a=torch.arange(3).reshape((3,1))\n",
    "b=torch.arange(2).reshape((1,2))\n",
    "print(a)\n",
    "print(b)\n",
    "print(a+b)"
   ]
  },
  {
   "cell_type": "markdown",
   "metadata": {},
   "source": [
    "由于两个矩阵的形状不同，先将两个矩阵广播为更大的3x2矩阵，再将对应位置的元素相加。a矩阵将会复制列，b矩阵将会赋值行。"
   ]
  },
  {
   "cell_type": "markdown",
   "metadata": {},
   "source": [
    "### 索引和切片"
   ]
  },
  {
   "cell_type": "markdown",
   "metadata": {},
   "source": [
    "可以通过索引访问张量中的元素。第一个元素的索引是0，最后一个元素的索引是-1。"
   ]
  },
  {
   "cell_type": "code",
   "execution_count": 7,
   "metadata": {},
   "outputs": [
    {
     "data": {
      "text/plain": [
       "tensor([[ 4,  5,  6,  7],\n",
       "        [ 8,  9, 10, 11]])"
      ]
     },
     "execution_count": 7,
     "metadata": {},
     "output_type": "execute_result"
    }
   ],
   "source": [
    "X=torch.arange(12).reshape((3,4))\n",
    "X\n",
    "#最后一行\n",
    "X[-1]\n",
    "##第2行和第三行\n",
    "X[1:3]"
   ]
  },
  {
   "cell_type": "markdown",
   "metadata": {},
   "source": [
    "可以通过指定索引更新矩阵中的元素。"
   ]
  },
  {
   "cell_type": "code",
   "execution_count": 8,
   "metadata": {},
   "outputs": [
    {
     "data": {
      "text/plain": [
       "tensor([[  0,   1,   2,   3],\n",
       "        [  4,   5, 100,   7],\n",
       "        [  8,   9,  10,  11]])"
      ]
     },
     "execution_count": 8,
     "metadata": {},
     "output_type": "execute_result"
    }
   ],
   "source": [
    "X[1,2]=100\n",
    "X"
   ]
  },
  {
   "cell_type": "markdown",
   "metadata": {},
   "source": [
    "可以将指定范围的元素全部赋为同一个值"
   ]
  },
  {
   "cell_type": "code",
   "execution_count": 9,
   "metadata": {},
   "outputs": [
    {
     "data": {
      "text/plain": [
       "tensor([[200, 200, 200, 200],\n",
       "        [200, 200, 200, 200],\n",
       "        [  8,   9,  10,  11]])"
      ]
     },
     "execution_count": 9,
     "metadata": {},
     "output_type": "execute_result"
    }
   ],
   "source": [
    "X[0:2,:]=200\n",
    "X"
   ]
  },
  {
   "cell_type": "markdown",
   "metadata": {},
   "source": [
    "### 节省内存"
   ]
  },
  {
   "cell_type": "code",
   "execution_count": null,
   "metadata": {},
   "outputs": [
    {
     "name": "stdout",
     "output_type": "stream",
     "text": [
      "False\n",
      "True\n"
     ]
    }
   ],
   "source": [
    "X=torch.tensor([1,2,3,4])\n",
    "Y=torch.tensor([5,6,7,8])\n",
    "beforeX=id(X)\n",
    "beforeY=id(Y)\n",
    "\n",
    "#指向了新的位置\n",
    "Y=X+Y\n",
    "print(beforeY==id(Y))\n",
    "\n",
    "#仍指向原来的位置\n",
    "X[:]=X+Y\n",
    "print(beforeX==id(X))"
   ]
  },
  {
   "cell_type": "markdown",
   "metadata": {},
   "source": [
    "### 转换为其他python对象"
   ]
  },
  {
   "cell_type": "markdown",
   "metadata": {},
   "source": [
    "深度学习框架的tensor和Numpy的ndarray可以很方便的互相转换。"
   ]
  },
  {
   "cell_type": "code",
   "execution_count": null,
   "metadata": {},
   "outputs": [
    {
     "name": "stdout",
     "output_type": "stream",
     "text": [
      "<class 'numpy.ndarray'>\n",
      "<class 'torch.Tensor'>\n"
     ]
    }
   ],
   "source": [
    "#tensor转换为numpy\n",
    "X=torch.tensor([1,2,3,4])\n",
    "A=X.numpy()\n",
    "print(type(A))\n",
    "\n",
    "#numpy转换为tensor\n",
    "B=torch.tensor(A)\n",
    "print(type(B))"
   ]
  },
  {
   "cell_type": "markdown",
   "metadata": {},
   "source": [
    "如果张量只有一个元素，可以通过item将其转换为python标量，或者使用int、float等进行类型转换。"
   ]
  },
  {
   "cell_type": "code",
   "execution_count": 18,
   "metadata": {},
   "outputs": [
    {
     "name": "stdout",
     "output_type": "stream",
     "text": [
      "1.5\n",
      "1.5\n",
      "1\n"
     ]
    }
   ],
   "source": [
    "X=torch.tensor([1.5])\n",
    "print(X.item())\n",
    "print(float(X))\n",
    "print(int(X))"
   ]
  }
 ],
 "metadata": {
  "kernelspec": {
   "display_name": "d2l",
   "language": "python",
   "name": "python3"
  },
  "language_info": {
   "codemirror_mode": {
    "name": "ipython",
    "version": 3
   },
   "file_extension": ".py",
   "mimetype": "text/x-python",
   "name": "python",
   "nbconvert_exporter": "python",
   "pygments_lexer": "ipython3",
   "version": "3.9.23"
  }
 },
 "nbformat": 4,
 "nbformat_minor": 2
}
